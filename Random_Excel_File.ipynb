{
  "nbformat": 4,
  "nbformat_minor": 0,
  "metadata": {
    "colab": {
      "provenance": [],
      "authorship_tag": "ABX9TyPXrz+omlcOuNFc6x/gYeaD",
      "include_colab_link": true
    },
    "kernelspec": {
      "name": "python3",
      "display_name": "Python 3"
    },
    "language_info": {
      "name": "python"
    }
  },
  "cells": [
    {
      "cell_type": "markdown",
      "metadata": {
        "id": "view-in-github",
        "colab_type": "text"
      },
      "source": [
        "<a href=\"https://colab.research.google.com/github/NARJESNARJES/exercise-2023/blob/main/Random_Excel_File.ipynb\" target=\"_parent\"><img src=\"https://colab.research.google.com/assets/colab-badge.svg\" alt=\"Open In Colab\"/></a>"
      ]
    },
    {
      "cell_type": "markdown",
      "source": [
        "\n",
        "generate a random Excel file with 20 rows labeled as Row_1 to Row_20 and 50 columns filled with random numbers ranging from 1 to 100:\n",
        "\n",
        "\n"
      ],
      "metadata": {
        "id": "vPV76PEuLn8C"
      }
    },
    {
      "cell_type": "code",
      "execution_count": 1,
      "metadata": {
        "id": "rlVpPdnBUr12",
        "colab": {
          "base_uri": "https://localhost:8080/"
        },
        "outputId": "781a439d-72f9-4804-9db0-1f6a460622c7"
      },
      "outputs": [
        {
          "output_type": "stream",
          "name": "stdout",
          "text": [
            "Requirement already satisfied: pandas in /usr/local/lib/python3.10/dist-packages (2.2.2)\n",
            "Requirement already satisfied: openpyxl in /usr/local/lib/python3.10/dist-packages (3.1.5)\n",
            "Requirement already satisfied: numpy>=1.22.4 in /usr/local/lib/python3.10/dist-packages (from pandas) (1.26.4)\n",
            "Requirement already satisfied: python-dateutil>=2.8.2 in /usr/local/lib/python3.10/dist-packages (from pandas) (2.8.2)\n",
            "Requirement already satisfied: pytz>=2020.1 in /usr/local/lib/python3.10/dist-packages (from pandas) (2024.2)\n",
            "Requirement already satisfied: tzdata>=2022.7 in /usr/local/lib/python3.10/dist-packages (from pandas) (2024.2)\n",
            "Requirement already satisfied: et-xmlfile in /usr/local/lib/python3.10/dist-packages (from openpyxl) (2.0.0)\n",
            "Requirement already satisfied: six>=1.5 in /usr/local/lib/python3.10/dist-packages (from python-dateutil>=2.8.2->pandas) (1.16.0)\n"
          ]
        }
      ],
      "source": [
        "pip install pandas openpyxl"
      ]
    },
    {
      "cell_type": "code",
      "source": [
        "import pandas as pd\n",
        "import numpy as np\n",
        "\n",
        "# Generate data\n",
        "rows = [f\"Row_{i}\" for i in range(1, 21)]\n",
        "columns = [f\"Column_{i}\" for i in range(1, 51)]\n",
        "data = np.random.randint(1, 101, size=(20, 50))\n",
        "\n",
        "# Create DataFrame\n",
        "df = pd.DataFrame(data, index=rows, columns=columns)\n",
        "\n",
        "# Save to Excel\n",
        "file_path = \"random_excel_file.xlsx\"\n",
        "df.to_excel(file_path)\n",
        "\n",
        "print(f\"Excel file '{file_path}' created successfully!\")\n"
      ],
      "metadata": {
        "colab": {
          "base_uri": "https://localhost:8080/"
        },
        "id": "4bLnpzLULmJa",
        "outputId": "2ee51c18-732f-47a2-fdf4-3bb2bc07e57f"
      },
      "execution_count": 2,
      "outputs": [
        {
          "output_type": "stream",
          "name": "stdout",
          "text": [
            "Excel file 'random_excel_file.xlsx' created successfully!\n"
          ]
        }
      ]
    },
    {
      "cell_type": "markdown",
      "source": [
        "updated version of the code that allows the user to specify the file path for saving the Excel file:"
      ],
      "metadata": {
        "id": "GyFRSWYkMdSB"
      }
    },
    {
      "source": [
        "import pandas as pd\n",
        "import numpy as np\n",
        "\n",
        "# Function to create and save the Excel file\n",
        "def create_random_excel(file_path):\n",
        "    # Generate data\n",
        "    rows = [f\"Row_{i}\" for i in range(1, 21)]\n",
        "    columns = [f\"Column_{i}\" for i in range(1, 51)]\n",
        "    data = np.random.randint(1, 101, size=(20, 50))\n",
        "\n",
        "    # Create DataFrame\n",
        "    df = pd.DataFrame(data, index=rows, columns=columns)\n",
        "\n",
        "    # Save to Excel\n",
        "    # Check if the file path has a valid Excel extension\n",
        "    if not file_path.endswith((\".xlsx\", \".xls\")):\n",
        "        # If not, add the '.xlsx' extension\n",
        "        file_path += \".xlsx\"\n",
        "    df.to_excel(file_path)\n",
        "    print(f\"Excel file saved at: {file_path}\")\n",
        "\n",
        "# User specifies the file path\n",
        "user_path = input(\"Enter the full path where you want to save the Excel file (e.g., C:/path/to/file.xlsx): \")\n",
        "create_random_excel(user_path)"
      ],
      "cell_type": "code",
      "metadata": {
        "colab": {
          "base_uri": "https://localhost:8080/"
        },
        "id": "9SGxQRA2MRzc",
        "outputId": "4f9c6170-0959-4b4b-834c-663f84160a60"
      },
      "execution_count": 4,
      "outputs": [
        {
          "output_type": "stream",
          "name": "stdout",
          "text": [
            "Enter the full path where you want to save the Excel file (e.g., C:/path/to/file.xlsx): /content/System.Biomed\n",
            "Excel file saved at: /content/System.Biomed.xlsx\n"
          ]
        }
      ]
    },
    {
      "cell_type": "markdown",
      "source": [],
      "metadata": {
        "id": "a6rDT-voLm7V"
      }
    }
  ]
}